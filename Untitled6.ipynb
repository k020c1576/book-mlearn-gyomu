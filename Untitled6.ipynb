{
  "nbformat": 4,
  "nbformat_minor": 0,
  "metadata": {
    "colab": {
      "name": "Untitled6.ipynb",
      "provenance": [],
      "authorship_tag": "ABX9TyOp7JEJ9nnbTlBRJLJpY3pc",
      "include_colab_link": true
    },
    "kernelspec": {
      "name": "python3",
      "display_name": "Python 3"
    },
    "language_info": {
      "name": "python"
    }
  },
  "cells": [
    {
      "cell_type": "markdown",
      "metadata": {
        "id": "view-in-github",
        "colab_type": "text"
      },
      "source": [
        "<a href=\"https://colab.research.google.com/github/k020c1576/book-mlearn-gyomu/blob/master/Untitled6.ipynb\" target=\"_parent\"><img src=\"https://colab.research.google.com/assets/colab-badge.svg\" alt=\"Open In Colab\"/></a>"
      ]
    },
    {
      "cell_type": "code",
      "metadata": {
        "colab": {
          "base_uri": "https://localhost:8080/"
        },
        "id": "9XvCR8Q2Lcpw",
        "outputId": "e2851079-40f8-49ef-9679-e8970a7d6e7a"
      },
      "source": [
        "import numpy as np \n",
        "import numpy.random as random\n",
        "import scipy as sp\n",
        "import pandas as pd\n",
        "from pandas import Series,DataFrame\n",
        "\n",
        "#学習用データとテスト用データに分けるためのモジュール\n",
        "from sklearn.model_selection import train_test_split\n",
        "#学習するデータ\n",
        "from sklearn.datasets import load_iris\n",
        "#アヤメの花のデータ\n",
        "iris = load_iris()\n",
        "\n",
        "df = pd.DataFrame(iris.data, columns=iris.feature_names)\n",
        "\n",
        "#アヤメのラベルを追加する\n",
        "df[\"target\"] = iris.target_names[iris.target]\n",
        "\n",
        "df.head()\n",
        "\n",
        "\n",
        "X = df.drop('target',axis=1)\n",
        "Y = df['target']\n",
        "\n",
        "#ここから学習用データとテスト用データに分ける\n",
        "X_train, X_test, Y_train, Y_test = train_test_split(X,Y,random_state=0)\n",
        "\n",
        "#k-近傍法を使って分類する\n",
        "from sklearn.neighbors import KNeighborsClassifier\n",
        "\n",
        "model = KNeighborsClassifier(n_neighbors=3)\n",
        "\n",
        "model.fit(X_train,Y_train)\n",
        "#.scoreで正解率を算出\n",
        "print(\"train score:\",model.score(X_train,Y_train))\n",
        "print(\"test score:\",model.score(X_test,Y_test))\n",
        "\n",
        "#k－近傍法\n",
        "# アヤメの特徴\n",
        "data = [[5.2, 3.0, 1.5, 0.6]]\n",
        "\n",
        "# 構築したモデルからアヤメの種類を求める\n",
        "model.predict(data)"
      ],
      "execution_count": null,
      "outputs": [
        {
          "output_type": "stream",
          "text": [
            "train score: 0.9642857142857143\n",
            "test score: 0.9736842105263158\n"
          ],
          "name": "stdout"
        },
        {
          "output_type": "execute_result",
          "data": {
            "text/plain": [
              "array(['setosa'], dtype=object)"
            ]
          },
          "metadata": {
            "tags": []
          },
          "execution_count": 19
        }
      ]
    },
    {
      "cell_type": "code",
      "metadata": {
        "colab": {
          "base_uri": "https://localhost:8080/"
        },
        "id": "NgLMLEXaPQW4",
        "outputId": "82b0148f-69ed-4104-d9c5-73e7b6940f1d"
      },
      "source": [
        "#決定木で分類してみる場合\n",
        "from sklearn.tree import DecisionTreeClassifier\n",
        "\n",
        "\n",
        "model = DecisionTreeClassifier(max_depth=3)\n",
        "\n",
        "#学習モデルを構築\n",
        "model.fit(X_train,Y_train)\n",
        "\n",
        "print(\"train score:\",model.score(X_train,Y_train))\n",
        "print(\"test score:\",model.score(X_test,Y_test))\n",
        "\n",
        "data =[[5.2,3.0,1.5,0.6]]\n",
        "\n",
        "model.predict(data)\n"
      ],
      "execution_count": null,
      "outputs": [
        {
          "output_type": "stream",
          "text": [
            "train score: 0.9821428571428571\n",
            "test score: 0.9736842105263158\n"
          ],
          "name": "stdout"
        },
        {
          "output_type": "execute_result",
          "data": {
            "text/plain": [
              "array(['setosa'], dtype=object)"
            ]
          },
          "metadata": {
            "tags": []
          },
          "execution_count": 15
        }
      ]
    },
    {
      "cell_type": "code",
      "metadata": {
        "id": "vuNNAgRoPgGC"
      },
      "source": [
        "#"
      ],
      "execution_count": null,
      "outputs": []
    },
    {
      "cell_type": "code",
      "metadata": {
        "id": "QQETiOFuPgPX"
      },
      "source": [
        "#"
      ],
      "execution_count": null,
      "outputs": []
    },
    {
      "cell_type": "code",
      "metadata": {
        "id": "cdoP0jgcPgaz"
      },
      "source": [
        ""
      ],
      "execution_count": null,
      "outputs": []
    },
    {
      "cell_type": "code",
      "metadata": {
        "id": "xe-h88snPgf_"
      },
      "source": [
        ""
      ],
      "execution_count": null,
      "outputs": []
    }
  ]
}